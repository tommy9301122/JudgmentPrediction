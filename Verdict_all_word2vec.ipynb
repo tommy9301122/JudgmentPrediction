{
 "cells": [
  {
   "cell_type": "code",
   "execution_count": 1,
   "metadata": {},
   "outputs": [
    {
     "name": "stderr",
     "output_type": "stream",
     "text": [
      "Building prefix dict from C:\\Users\\user\\Desktop\\Python\\判決書\\損害賠償(CFD)\\word2vec_CFD\\dict.txt ...\n",
      "Dumping model to file cache C:\\Users\\user\\AppData\\Local\\Temp\\jieba.u255c864b24c79a3a21fe4e74eb3bbc4c.cache\n",
      "Loading model cost 0.970 seconds.\n",
      "Prefix dict has been built succesfully.\n",
      "C:\\Users\\user\\Anaconda3\\lib\\site-packages\\gensim\\utils.py:1212: UserWarning: detected Windows; aliasing chunkize to chunkize_serial\n",
      "  warnings.warn(\"detected Windows; aliasing chunkize to chunkize_serial\")\n"
     ]
    }
   ],
   "source": [
    "import pandas as pd\n",
    "\n",
    "import jieba\n",
    "jieba.set_dictionary('dict.txt')                  # 繁體字典\n",
    "jieba.load_userdict('special_v3.txt')             # 法律專用詞字典\n",
    "with open('stop.txt', encoding='utf_8') as f:     # 停止字字典\n",
    "    stops = f.read().split('\\n')\n",
    "\n",
    "from gensim.models import Word2Vec"
   ]
  },
  {
   "cell_type": "code",
   "execution_count": 7,
   "metadata": {},
   "outputs": [],
   "source": [
    "df = pd.read_csv('Verdict_all(201710-201809).csv',usecols=['判決書'])"
   ]
  },
  {
   "cell_type": "code",
   "execution_count": 4,
   "metadata": {},
   "outputs": [],
   "source": [
    "df = df.dropna(subset = ['判決書'])"
   ]
  },
  {
   "cell_type": "code",
   "execution_count": 5,
   "metadata": {},
   "outputs": [],
   "source": [
    "# 詞向量維度\n",
    "\n",
    "EMBEDDING_DIM = 100"
   ]
  },
  {
   "cell_type": "code",
   "execution_count": 6,
   "metadata": {},
   "outputs": [],
   "source": [
    "# word2vec\n",
    "\n",
    "wordslist =[]\n",
    "list_case = df['判決書'].tolist()\n",
    "for i in list_case:\n",
    "    seg_list = jieba.lcut(i, cut_all=False)\n",
    "    \n",
    "    seg_list_dropstop=[]\n",
    "    for word in seg_list:\n",
    "        if word not in stops:\n",
    "            seg_list_dropstop.append(word)\n",
    "            \n",
    "    wordslist.append(seg_list_dropstop)\n",
    "\n",
    "w2v_model = Word2Vec(wordslist, size=EMBEDDING_DIM)     # 全部的資料斷詞後丟進 word2vec模型"
   ]
  },
  {
   "cell_type": "code",
   "execution_count": 7,
   "metadata": {},
   "outputs": [
    {
     "name": "stderr",
     "output_type": "stream",
     "text": [
      "C:\\Users\\user\\Anaconda3\\lib\\site-packages\\gensim\\matutils.py:737: FutureWarning: Conversion of the second argument of issubdtype from `int` to `np.signedinteger` is deprecated. In future, it will be treated as `np.int32 == np.dtype(int).type`.\n",
      "  if np.issubdtype(vec.dtype, np.int):\n"
     ]
    },
    {
     "data": {
      "text/plain": [
       "[('貨車', 0.890654981136322),\n",
       " ('自小客車', 0.8052800893783569),\n",
       " ('小客', 0.782107949256897),\n",
       " ('大客車', 0.7577944993972778),\n",
       " ('客貨', 0.7339860200881958),\n",
       " ('曳引車', 0.7284026741981506),\n",
       " ('聯結車', 0.7184268236160278),\n",
       " ('車輛', 0.7036886215209961),\n",
       " ('自小貨車', 0.6935261487960815),\n",
       " ('機車', 0.6735873222351074)]"
      ]
     },
     "execution_count": 7,
     "metadata": {},
     "output_type": "execute_result"
    }
   ],
   "source": [
    "# 稍微檢視模型訓練成果\n",
    "\n",
    "w2v_model.wv.most_similar('客車')"
   ]
  },
  {
   "cell_type": "code",
   "execution_count": 8,
   "metadata": {},
   "outputs": [],
   "source": [
    "# 保存模型\n",
    "w2v_model.save(\"w2v_model.model\")\n",
    "\n",
    "# 模型讀取方式\n",
    "# w2v_model = Word2Vec.load(\"w2v_model.model\")"
   ]
  }
 ],
 "metadata": {
  "kernelspec": {
   "display_name": "Python 3",
   "language": "python",
   "name": "python3"
  },
  "language_info": {
   "codemirror_mode": {
    "name": "ipython",
    "version": 3
   },
   "file_extension": ".py",
   "mimetype": "text/x-python",
   "name": "python",
   "nbconvert_exporter": "python",
   "pygments_lexer": "ipython3",
   "version": "3.6.5"
  }
 },
 "nbformat": 4,
 "nbformat_minor": 4
}
